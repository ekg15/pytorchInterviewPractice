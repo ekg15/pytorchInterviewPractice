{
 "cells": [
  {
   "cell_type": "code",
   "execution_count": 2,
   "metadata": {},
   "outputs": [],
   "source": [
    "import torch\n",
    "import torch.nn as nn\n",
    "from torch import Tensor\n",
    "import torch.nn.functional as F"
   ]
  },
  {
   "cell_type": "code",
   "execution_count": 160,
   "metadata": {},
   "outputs": [],
   "source": [
    "class Attn(nn.Module):\n",
    "    def __init__(self, emb_dim, q_dim, k_dim):\n",
    "        super().__init__()\n",
    "        self.Wq = nn.Linear(emb_dim, q_dim)\n",
    "        self.Wk = nn.Linear(emb_dim, k_dim)\n",
    "        self.Wv = nn.Linear(emb_dim, k_dim)\n",
    "        \n",
    "    def forward(self, x, z):\n",
    "        Q = self.Wq(x)\n",
    "        K = self.Wk(z)\n",
    "        V = self.Wv(z)\n",
    "        print(K.shape)\n",
    "        S = Q.bmm(K.transpose(1,2))\n",
    "        # uhh masking here\n",
    "#         print(S.shape)\n",
    "        sm = F.softmax(torch.div(S,torch.sqrt(torch.tensor(x.shape[-1]))),dim=-1)\n",
    "#         print(sm.shape)\n",
    "#         print(V.shape)\n",
    "        return sm.bmm(V)\n",
    "    \n",
    "class MHAttn(nn.Module):\n",
    "    def __init__(self, num_heads, emb_dim, q_dim, k_dim):\n",
    "        super().__init__()\n",
    "        self.heads = nn.ModuleList([Attn(emb_dim, q_dim, k_dim) for _ in range(num_heads)])\n",
    "        self.Wo = nn.Linear(num_heads * k_dim, emb_dim)\n",
    "        \n",
    "    def forward(self, x, z):\n",
    "        subAttns = torch.cat([h(x,z) for h in self.heads], dim=-1)\n",
    "        return self.Wo(subAttns)\n",
    "        \n",
    "# encoder is definitionally self-attn\n",
    "class EncoderBlock(nn.Module):\n",
    "    def __init__(self, emb_dim, z_dim, heads):\n",
    "        super().__init__()\n",
    "        self.attn = MHAttn(heads, emb_dim, z_dim, z_dim)\n",
    "        self.ln1 = nn.LayerNorm(emb_dim)\n",
    "        self.ln2 = nn.LayerNorm(emb_dim)\n",
    "        self.ff1 = nn.Linear(emb_dim,emb_dim)\n",
    "        self.ff2 = nn.Linear(emb_dim,emb_dim)\n",
    "        \n",
    "    def forward(self, z):\n",
    "        z = z + self.attn(z,z)\n",
    "        z = self.ln1(z)\n",
    "        z = z + self.ff2(F.relu(self.ff1(z)))\n",
    "        return self.ln2(z)\n",
    "    \n",
    "class DecoderBlock(nn.Module):\n",
    "    def __init__(self, emb_dim, x_dim, z_dim, heads):\n",
    "        super().__init__()\n",
    "        self.attn = MHAttn(heads, emb_dim, x_dim, z_dim)\n",
    "        self.ln1 = nn.LayerNorm(emb_dim)\n",
    "        self.ln2 = nn.LayerNorm(emb_dim)\n",
    "        self.ln3 = nn.LayerNorm(emb_dim)\n",
    "        self.ff1 = nn.Linear(emb_dim,emb_dim)\n",
    "        self.ff2 = nn.Linear(emb_dim,emb_dim)\n",
    "        \n",
    "    def forward(self, x, z):\n",
    "        x = x + self.attn(x,x)\n",
    "        x = self.ln1(x)\n",
    "        x = x + self.attn(x,z)\n",
    "        x = self.ln2(x)\n",
    "        x = x + self.ff2(F.relu(self.ff1(x)))\n",
    "        return self.ln3(x)\n",
    "        \n",
    "# review this\n",
    "\n",
    "class EDTransformer(nn.Module):\n",
    "    def __init__(self, embs, pos, emb_dim, x_dim, z_dim, heads, enc_blocks, dec_blocks, out_dim):\n",
    "        # needs embedding matrix\n",
    "        # garbage for now\n",
    "        # positional embedding scheme\n",
    "        # softmax FF at the end\n",
    "        super().__init__()\n",
    "        self.enc_blocks = enc_blocks\n",
    "        self.dec_blocks = dec_blocks\n",
    "        self.encoderBlocks = nn.ModuleList(\n",
    "            [EncoderBlock(emb_dim, x_dim, heads) for _ in range(enc_blocks)]\n",
    "        )\n",
    "        self.decoderBlocks = nn.ModuleList(\n",
    "            [DecoderBlock(emb_dim, x_dim, z_dim, heads) for _ in range(dec_blocks)]\n",
    "        )\n",
    "        self.ff = nn.Linear(emb_dim, out_dim)\n",
    "\n",
    "    def forward(self, x,z):\n",
    "        # embed + pos\n",
    "        # loop through encoder blocks\n",
    "        for i in range(self.enc_blocks):\n",
    "            z = self.encoderBlocks[i](z)\n",
    "        # loop through decoder blocks\n",
    "        for i in range(self.dec_blocks):\n",
    "            x = self.decoderBlocks[i](x, z)\n",
    "        # FF and softmax\n",
    "        return F.softmax(self.ff(x), dim=-1)\n"
   ]
  },
  {
   "cell_type": "code",
   "execution_count": 93,
   "metadata": {},
   "outputs": [],
   "source": [
    "exAttn = Attn(256, 32, 32)"
   ]
  },
  {
   "cell_type": "code",
   "execution_count": 112,
   "metadata": {},
   "outputs": [],
   "source": [
    "# sequence of 8 words\n",
    "x = torch.randn(1,8,256)\n",
    "# seq of 10\n",
    "z = torch.randn(1,10,256)"
   ]
  },
  {
   "cell_type": "code",
   "execution_count": 116,
   "metadata": {},
   "outputs": [],
   "source": [
    "# three seqs of 8 words\n",
    "x = torch.randn(3,8,256)\n",
    "# three seqs of 10\n",
    "z = torch.randn(3,10,256)"
   ]
  },
  {
   "cell_type": "code",
   "execution_count": 117,
   "metadata": {},
   "outputs": [
    {
     "name": "stdout",
     "output_type": "stream",
     "text": [
      "torch.Size([3, 8, 32])\n",
      "torch.Size([3, 8, 8])\n",
      "torch.Size([3, 8, 8])\n",
      "torch.Size([3, 8, 32])\n"
     ]
    },
    {
     "data": {
      "text/plain": [
       "torch.Size([3, 8, 32])"
      ]
     },
     "execution_count": 117,
     "metadata": {},
     "output_type": "execute_result"
    }
   ],
   "source": [
    "res = exAttn(x,x)\n",
    "res.shape"
   ]
  },
  {
   "cell_type": "code",
   "execution_count": 118,
   "metadata": {},
   "outputs": [],
   "source": [
    "exMHA = MHAttn(8, 256, 32, 32)"
   ]
  },
  {
   "cell_type": "code",
   "execution_count": 119,
   "metadata": {},
   "outputs": [
    {
     "name": "stdout",
     "output_type": "stream",
     "text": [
      "torch.Size([3, 8, 32])\n",
      "torch.Size([3, 8, 32])\n",
      "torch.Size([3, 8, 32])\n",
      "torch.Size([3, 8, 32])\n",
      "torch.Size([3, 8, 32])\n",
      "torch.Size([3, 8, 32])\n",
      "torch.Size([3, 8, 32])\n",
      "torch.Size([3, 8, 32])\n"
     ]
    },
    {
     "data": {
      "text/plain": [
       "torch.Size([3, 8, 256])"
      ]
     },
     "execution_count": 119,
     "metadata": {},
     "output_type": "execute_result"
    }
   ],
   "source": [
    "mhres = exMHA(x,x)\n",
    "mhres.shape"
   ]
  },
  {
   "cell_type": "code",
   "execution_count": 120,
   "metadata": {},
   "outputs": [],
   "source": [
    "exEB = EncoderBlock(256, 8)"
   ]
  },
  {
   "cell_type": "code",
   "execution_count": 121,
   "metadata": {},
   "outputs": [
    {
     "name": "stdout",
     "output_type": "stream",
     "text": [
      "torch.Size([3, 8, 256])\n",
      "torch.Size([3, 8, 256])\n",
      "torch.Size([3, 8, 256])\n",
      "torch.Size([3, 8, 256])\n",
      "torch.Size([3, 8, 256])\n",
      "torch.Size([3, 8, 256])\n",
      "torch.Size([3, 8, 256])\n",
      "torch.Size([3, 8, 256])\n"
     ]
    }
   ],
   "source": [
    "ebres = exEB(x)"
   ]
  },
  {
   "cell_type": "code",
   "execution_count": 122,
   "metadata": {},
   "outputs": [
    {
     "data": {
      "text/plain": [
       "torch.Size([3, 8, 256])"
      ]
     },
     "execution_count": 122,
     "metadata": {},
     "output_type": "execute_result"
    }
   ],
   "source": [
    "ebres.shape"
   ]
  },
  {
   "cell_type": "code",
   "execution_count": 123,
   "metadata": {},
   "outputs": [],
   "source": [
    "exDB = DecoderBlock(256, 256, 8)"
   ]
  },
  {
   "cell_type": "code",
   "execution_count": 124,
   "metadata": {},
   "outputs": [
    {
     "name": "stdout",
     "output_type": "stream",
     "text": [
      "torch.Size([3, 8, 256])\n",
      "torch.Size([3, 8, 256])\n",
      "torch.Size([3, 8, 256])\n",
      "torch.Size([3, 8, 256])\n",
      "torch.Size([3, 8, 256])\n",
      "torch.Size([3, 8, 256])\n",
      "torch.Size([3, 8, 256])\n",
      "torch.Size([3, 8, 256])\n",
      "torch.Size([3, 10, 256])\n",
      "torch.Size([3, 10, 256])\n",
      "torch.Size([3, 10, 256])\n",
      "torch.Size([3, 10, 256])\n",
      "torch.Size([3, 10, 256])\n",
      "torch.Size([3, 10, 256])\n",
      "torch.Size([3, 10, 256])\n",
      "torch.Size([3, 10, 256])\n"
     ]
    }
   ],
   "source": [
    "dbres = exDB(x, z)"
   ]
  },
  {
   "cell_type": "code",
   "execution_count": 115,
   "metadata": {},
   "outputs": [
    {
     "data": {
      "text/plain": [
       "torch.Size([1, 8, 256])"
      ]
     },
     "execution_count": 115,
     "metadata": {},
     "output_type": "execute_result"
    }
   ],
   "source": [
    "dbres.shape"
   ]
  },
  {
   "cell_type": "code",
   "execution_count": 161,
   "metadata": {},
   "outputs": [],
   "source": [
    "exEDT = EDTransformer(None, None, 256, 32, 32, 8, 3,3,10)"
   ]
  },
  {
   "cell_type": "code",
   "execution_count": 162,
   "metadata": {},
   "outputs": [
    {
     "name": "stdout",
     "output_type": "stream",
     "text": [
      "torch.Size([3, 10, 32])\n",
      "torch.Size([3, 10, 32])\n",
      "torch.Size([3, 10, 32])\n",
      "torch.Size([3, 10, 32])\n",
      "torch.Size([3, 10, 32])\n",
      "torch.Size([3, 10, 32])\n",
      "torch.Size([3, 10, 32])\n",
      "torch.Size([3, 10, 32])\n",
      "torch.Size([3, 10, 32])\n",
      "torch.Size([3, 10, 32])\n",
      "torch.Size([3, 10, 32])\n",
      "torch.Size([3, 10, 32])\n",
      "torch.Size([3, 10, 32])\n",
      "torch.Size([3, 10, 32])\n",
      "torch.Size([3, 10, 32])\n",
      "torch.Size([3, 10, 32])\n",
      "torch.Size([3, 10, 32])\n",
      "torch.Size([3, 10, 32])\n",
      "torch.Size([3, 10, 32])\n",
      "torch.Size([3, 10, 32])\n",
      "torch.Size([3, 10, 32])\n",
      "torch.Size([3, 10, 32])\n",
      "torch.Size([3, 10, 32])\n",
      "torch.Size([3, 10, 32])\n",
      "torch.Size([3, 8, 32])\n",
      "torch.Size([3, 8, 32])\n",
      "torch.Size([3, 8, 32])\n",
      "torch.Size([3, 8, 32])\n",
      "torch.Size([3, 8, 32])\n",
      "torch.Size([3, 8, 32])\n",
      "torch.Size([3, 8, 32])\n",
      "torch.Size([3, 8, 32])\n",
      "torch.Size([3, 10, 32])\n",
      "torch.Size([3, 10, 32])\n",
      "torch.Size([3, 10, 32])\n",
      "torch.Size([3, 10, 32])\n",
      "torch.Size([3, 10, 32])\n",
      "torch.Size([3, 10, 32])\n",
      "torch.Size([3, 10, 32])\n",
      "torch.Size([3, 10, 32])\n",
      "torch.Size([3, 8, 32])\n",
      "torch.Size([3, 8, 32])\n",
      "torch.Size([3, 8, 32])\n",
      "torch.Size([3, 8, 32])\n",
      "torch.Size([3, 8, 32])\n",
      "torch.Size([3, 8, 32])\n",
      "torch.Size([3, 8, 32])\n",
      "torch.Size([3, 8, 32])\n",
      "torch.Size([3, 10, 32])\n",
      "torch.Size([3, 10, 32])\n",
      "torch.Size([3, 10, 32])\n",
      "torch.Size([3, 10, 32])\n",
      "torch.Size([3, 10, 32])\n",
      "torch.Size([3, 10, 32])\n",
      "torch.Size([3, 10, 32])\n",
      "torch.Size([3, 10, 32])\n",
      "torch.Size([3, 8, 32])\n",
      "torch.Size([3, 8, 32])\n",
      "torch.Size([3, 8, 32])\n",
      "torch.Size([3, 8, 32])\n",
      "torch.Size([3, 8, 32])\n",
      "torch.Size([3, 8, 32])\n",
      "torch.Size([3, 8, 32])\n",
      "torch.Size([3, 8, 32])\n",
      "torch.Size([3, 10, 32])\n",
      "torch.Size([3, 10, 32])\n",
      "torch.Size([3, 10, 32])\n",
      "torch.Size([3, 10, 32])\n",
      "torch.Size([3, 10, 32])\n",
      "torch.Size([3, 10, 32])\n",
      "torch.Size([3, 10, 32])\n",
      "torch.Size([3, 10, 32])\n"
     ]
    }
   ],
   "source": [
    "edtres = exEDT(x,z)"
   ]
  },
  {
   "cell_type": "code",
   "execution_count": 163,
   "metadata": {},
   "outputs": [
    {
     "data": {
      "text/plain": [
       "torch.Size([3, 8, 10])"
      ]
     },
     "execution_count": 163,
     "metadata": {},
     "output_type": "execute_result"
    }
   ],
   "source": [
    "edtres.shape"
   ]
  },
  {
   "cell_type": "code",
   "execution_count": null,
   "metadata": {},
   "outputs": [],
   "source": []
  }
 ],
 "metadata": {
  "kernelspec": {
   "display_name": "Python 3",
   "language": "python",
   "name": "python3"
  },
  "language_info": {
   "codemirror_mode": {
    "name": "ipython",
    "version": 3
   },
   "file_extension": ".py",
   "mimetype": "text/x-python",
   "name": "python",
   "nbconvert_exporter": "python",
   "pygments_lexer": "ipython3",
   "version": "3.8.3"
  }
 },
 "nbformat": 4,
 "nbformat_minor": 4
}
